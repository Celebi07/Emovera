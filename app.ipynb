{
 "cells": [
  {
   "cell_type": "code",
   "execution_count": 1,
   "metadata": {},
   "outputs": [],
   "source": [
    "import cv2\n",
    "import os\n",
    "import uuid\n",
    "import numpy as np\n",
    "\n",
    "import tensorflow as tf\n",
    "from tensorflow.keras.models import Model\n",
    "from tensorflow.keras.layers import Layer, Conv2D, Dense, MaxPooling2D, Input, Flatten\n",
    "from tensorflow.keras.metrics import Precision, Recall"
   ]
  },
  {
   "cell_type": "code",
   "execution_count": 2,
   "metadata": {},
   "outputs": [],
   "source": [
    "# Siamese L1 Distance class\n",
    "class L1Dist(Layer):\n",
    "    \n",
    "    # Init method - inheritance\n",
    "    def __init__(self, **kwargs):\n",
    "        super().__init__()\n",
    "       \n",
    "    # Magic happens here - similarity calculation\n",
    "    def call(self, input_embedding, validation_embedding):\n",
    "        return tf.math.abs(input_embedding - validation_embedding)"
   ]
  },
  {
   "cell_type": "code",
   "execution_count": 3,
   "metadata": {},
   "outputs": [],
   "source": [
    "def preprocess(file_path):\n",
    "    \n",
    "    # Read in image from file path\n",
    "    byte_img = tf.io.read_file(file_path)\n",
    "    # Load in the image \n",
    "    img = tf.io.decode_jpeg(byte_img)\n",
    "    \n",
    "    # Preprocessing steps - resizing the image to be 100x100x3\n",
    "    img = tf.image.resize(img, (100,100))\n",
    "    # Scale image to be between 0 and 1 \n",
    "    img = img / 255.0\n",
    "\n",
    "    # Return image\n",
    "    return img"
   ]
  },
  {
   "cell_type": "code",
   "execution_count": 4,
   "metadata": {},
   "outputs": [],
   "source": [
    "ANC_PATH = os.path.join('VerificationImages', 'Image') "
   ]
  },
  {
   "cell_type": "code",
   "execution_count": 5,
   "metadata": {},
   "outputs": [
    {
     "name": "stdout",
     "output_type": "stream",
     "text": [
      "New user folder created: VerificationImages\\Images\\_\n",
      "Capturing complete.\n"
     ]
    }
   ],
   "source": [
    "# Ask user for name and ID\n",
    "user_name = input(\"Enter your name: \")\n",
    "user_id = input(\"Enter your ID: \")\n",
    "\n",
    "# Construct the path to the user's image folder\n",
    "user_image_folder = os.path.join('VerificationImages', 'Images', user_name + \"_\" + user_id)\n",
    "\n",
    "# Check if the user folder already exists\n",
    "if os.path.exists(user_image_folder):\n",
    "    print(\"User already registered. Photos will not be captured.\")\n",
    "else:\n",
    "    os.makedirs(user_image_folder, exist_ok=True)\n",
    "    print(f\"New user folder created: {user_image_folder}\")\n",
    "\n",
    "    # Load the pre-trained Haar cascade classifier for face detection\n",
    "    face_cascade = cv2.CascadeClassifier(cv2.data.haarcascades + 'haarcascade_frontalface_default.xml')\n",
    "\n",
    "    # Establish a connection to the webcam\n",
    "    cap = cv2.VideoCapture(0)\n",
    "\n",
    "    capturing = False\n",
    "    capture_count = 0\n",
    "\n",
    "    while cap.isOpened():\n",
    "        ret, frame = cap.read()\n",
    "\n",
    "        # Cut down frame to 250x250px\n",
    "        frame = frame[120:120+250, 200:200+250, :]\n",
    "        gray = cv2.cvtColor(frame, cv2.COLOR_BGR2GRAY)\n",
    "        faces = face_cascade.detectMultiScale(gray, scaleFactor=1.1, minNeighbors=5, minSize=(30, 30))\n",
    "\n",
    "        display_frame = frame.copy()\n",
    "        for (x, y, w, h) in faces:\n",
    "            cv2.rectangle(display_frame, (x, y), (x+w, y+h), (255, 0, 0), 2)\n",
    "\n",
    "        cv2.imshow('Face Detection', display_frame)\n",
    "\n",
    "        key = cv2.waitKey(30)\n",
    "        if key & 0xFF == ord('v') and len(faces) > 0:\n",
    "            capturing = True \n",
    "\n",
    "        if capturing and len(faces) > 0 and capture_count < 2:\n",
    "            imgname = os.path.join(user_image_folder, f'{uuid.uuid1()}.jpg')\n",
    "            cv2.imwrite(imgname, frame)\n",
    "            cv2.imshow('Image Collection', frame)\n",
    "            capture_count += 1\n",
    "            cv2.waitKey(30)\n",
    "\n",
    "        if capture_count >= 2:\n",
    "            capturing = False\n",
    "            print(\"Capturing complete.\")\n",
    "            break\n",
    "\n",
    "        if key & 0xFF == ord('q'):\n",
    "            break\n",
    "\n",
    "    cap.release()\n",
    "    cv2.destroyAllWindows()"
   ]
  },
  {
   "cell_type": "code",
   "execution_count": 6,
   "metadata": {},
   "outputs": [],
   "source": [
    "siamese_model = tf.keras.models.load_model('verification.h5', \n",
    "                                   custom_objects={'L1Dist':L1Dist, 'BinaryCrossentropy':tf.losses.BinaryCrossentropy})"
   ]
  },
  {
   "cell_type": "code",
   "execution_count": 7,
   "metadata": {},
   "outputs": [],
   "source": [
    "# # Ask for user name and ID\n",
    "# user_name = input(\"Enter the user's name: \")\n",
    "# user_id = input(\"Enter the user's ID: \")\n",
    "# user_folder = f\"{user_name}_{user_id}\"\n",
    "# print(user_folder)\n",
    "# # Construct the path to the user's image folder\n",
    "# user_image_folder = os.path.join('VerificationImages', 'Images', user_folder)\n",
    "# # VerificationImages\\Images\\bho_2\n",
    "# # Check if the user's folder exists\n",
    "# if not os.path.exists(user_image_folder):\n",
    "#     print(\"User folder not found.\")\n",
    "# else:\n",
    "#     # List all images in the user's folder\n",
    "#     for image in os.listdir(os.path.join('VerificationImages', 'Images',user_folder)):\n",
    "#         validation_img = os.path.join(user_folder, image)\n",
    "#         print(validation_img) "
   ]
  },
  {
   "cell_type": "code",
   "execution_count": 8,
   "metadata": {},
   "outputs": [],
   "source": [
    "def verify(model, detection_threshold, verification_threshold):                             \n",
    "    # Ask user for name and ID to identify the folder\n",
    "    # user_name = input(\"Enter user name for verification: \")\n",
    "    # user_id = input(\"Enter user ID for verification: \")\n",
    "    user_folder = f\"{user_name}_{user_id}\"\n",
    "    \n",
    "    # Construct the path to the user's image folder\n",
    "    user_image_folder = os.path.join('VerificationImages', 'Images', user_folder)\n",
    "    \n",
    "    # Check if the user's folder exists\n",
    "    if not os.path.exists(user_image_folder):\n",
    "        print(\"User folder not found.\")\n",
    "        return\n",
    "    # Build results array\n",
    "    results = []\n",
    "    for image in os.listdir(user_image_folder):\n",
    "        input_img = preprocess(os.path.join('VerificationImages', 'InputImage', user_folder, 'input_image.jpg'))\n",
    "        validation_img = preprocess(os.path.join(user_image_folder, image))\n",
    "        \n",
    "        # Make Predictions \n",
    "        result = model.predict(list(np.expand_dims([input_img, validation_img], axis=1)))\n",
    "        results.append(result)\n",
    "    \n",
    "    # Detection Threshold: Metric above which a prediciton is considered positive \n",
    "    detection = np.sum(np.array(results) > detection_threshold)\n",
    "    \n",
    "    # Verification Threshold: Proportion of positive predictions / total positive samples \n",
    "    verification = detection / len(os.listdir(user_image_folder)) \n",
    "    verified = verification > verification_threshold\n",
    "    \n",
    "    return results, verified "
   ]
  },
  {
   "cell_type": "code",
   "execution_count": 9,
   "metadata": {},
   "outputs": [
    {
     "name": "stdout",
     "output_type": "stream",
     "text": [
      "Input image folder created: VerificationImages\\InputImage\\_\n",
      "Input image saved as VerificationImages\\InputImage\\_\\input_image.jpg\n"
     ]
    }
   ],
   "source": [
    "# Ask user for name and ID to identify the input image folder\n",
    "user_name = input(\"Enter your name: \")\n",
    "user_id = input(\"Enter your user ID: \")\n",
    "\n",
    "# Construct the path to the user's input image folder\n",
    "input_image_folder = os.path.join('VerificationImages', 'InputImage', f'{user_name}_{user_id}')\n",
    "\n",
    "# Create the input image folder if it doesn't exist\n",
    "if not os.path.exists(input_image_folder):\n",
    "    os.makedirs(input_image_folder)\n",
    "    print(f\"Input image folder created: {input_image_folder}\")\n",
    "else:\n",
    "    print(\"Input image folder already exists.\")\n",
    "\n",
    "\n",
    "# Load the pre-trained Haar cascade classifier for face detection\n",
    "face_cascade = cv2.CascadeClassifier(cv2.data.haarcascades + 'haarcascade_frontalface_default.xml')\n",
    "\n",
    "# Open the default camera (camera index 0)\n",
    "cap = cv2.VideoCapture(0)\n",
    "\n",
    "if not cap.isOpened():\n",
    "    print(\"Error: Could not open camera.\")\n",
    "    exit()\n",
    "\n",
    "while cap.isOpened():\n",
    "    ret, frame = cap.read()\n",
    "\n",
    "    if not ret:\n",
    "        print(\"Error: Could not read frame.\")\n",
    "        break\n",
    "\n",
    "    frame_roi = frame[120:120+250, 200:200+250, :]\n",
    "    \n",
    "    # Display the verification frame\n",
    "    cv2.imshow('Verification', frame_roi)\n",
    "\n",
    "    key = cv2.waitKey(10) & 0xFF\n",
    "\n",
    "    if key == ord('v'):\n",
    "        # Construct the path to the user's input image folder\n",
    "        input_image_folder = os.path.join('VerificationImages', 'InputImage', f'{user_name}_{user_id}')\n",
    "    \n",
    "    # Create the input image folder if it doesn't exist\n",
    "        if not os.path.exists(input_image_folder):\n",
    "            os.makedirs(input_image_folder)\n",
    "    \n",
    "        input_image_path = os.path.join(input_image_folder, 'input_image.jpg')\n",
    "        cv2.imwrite(input_image_path, frame_roi)\n",
    "        print(f\"Input image saved as {input_image_path}\")\n",
    "    \n",
    "    if key == ord('q'):\n",
    "        break\n",
    "\n",
    "cap.release() \n",
    "cv2.destroyAllWindows()"
   ]
  },
  {
   "cell_type": "code",
   "execution_count": 10,
   "metadata": {},
   "outputs": [
    {
     "name": "stdout",
     "output_type": "stream",
     "text": [
      "1/1 [==============================] - 0s 311ms/step\n",
      "1/1 [==============================] - 0s 58ms/step\n",
      "True\n"
     ]
    }
   ],
   "source": [
    "# Run verification using your 'verify' function and 'siamese_model'\n",
    "results, verified = verify(siamese_model, 0.5, 0.5) \n",
    "print(verified) "
   ]
  }
 ],
 "metadata": {
  "kernelspec": {
   "display_name": "Python 3",
   "language": "python",
   "name": "python3"
  },
  "language_info": {
   "codemirror_mode": {
    "name": "ipython",
    "version": 3
   },
   "file_extension": ".py",
   "mimetype": "text/x-python",
   "name": "python",
   "nbconvert_exporter": "python",
   "pygments_lexer": "ipython3",
   "version": "3.11.4"
  },
  "orig_nbformat": 4
 },
 "nbformat": 4,
 "nbformat_minor": 2
}
